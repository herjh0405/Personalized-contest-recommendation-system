{
 "cells": [
  {
   "cell_type": "code",
   "execution_count": 5,
   "metadata": {},
   "outputs": [],
   "source": [
    "import pymysql\n",
    "import pymysql.cursors\n",
    "import pandas as pd\n",
    "import csv"
   ]
  },
  {
   "cell_type": "code",
   "execution_count": 7,
   "metadata": {},
   "outputs": [
    {
     "data": {
      "text/plain": [
       "<function TextIOWrapper.close()>"
      ]
     },
     "execution_count": 7,
     "metadata": {},
     "output_type": "execute_result"
    }
   ],
   "source": [
    "conn = pymysql.connect(host='localhost',\n",
    "                       user='root',\n",
    "#                        password='0405',\n",
    "                       db = 'comp',\n",
    "                       charset='utf8'\n",
    "                      )\n",
    "curs = conn.cursor()\n",
    "\n",
    "sql = \"insert into info (user_id, gong_id, gong_rank) values (%s, %s, %s)\"\n",
    "f = open('./user_info.csv', 'r', encoding='utf-8')\n",
    "rd = csv.reader(f)\n",
    "next(rd)\n",
    "\n",
    "for line in rd:\n",
    "    curs.execute(sql, (line[0], line[1], line[2]))\n",
    "    \n",
    "conn.commit()\n",
    "conn.close()\n",
    "f.close"
   ]
  }
 ],
 "metadata": {
  "kernelspec": {
   "display_name": "Python 3",
   "language": "python",
   "name": "python3"
  },
  "language_info": {
   "codemirror_mode": {
    "name": "ipython",
    "version": 3
   },
   "file_extension": ".py",
   "mimetype": "text/x-python",
   "name": "python",
   "nbconvert_exporter": "python",
   "pygments_lexer": "ipython3",
   "version": "3.8.3"
  }
 },
 "nbformat": 4,
 "nbformat_minor": 5
}
