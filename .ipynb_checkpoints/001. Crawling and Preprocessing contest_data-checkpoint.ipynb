{
 "cells": [
  {
   "cell_type": "markdown",
   "metadata": {},
   "source": [
    "# 추천 시스템에 사용 될 데이터 크롤링 및 전처리 작업\n",
    "\n",
    "## 크롤링 및 전처리를 위한 환경설정"
   ]
  },
  {
   "cell_type": "code",
   "execution_count": 1,
   "metadata": {},
   "outputs": [],
   "source": [
    "import openpyxl # excel 사용\n",
    "import requests # 주소 긁어오기\n",
    "from bs4 import BeautifulSoup # 이쁘게 다듬기 \n",
    "import time # 작업 중간에 시간 체크\n",
    "import pandas as pd \n",
    "import warnings\n",
    "warnings.filterwarnings('ignore')\n",
    "\n",
    "# from urllib.request import urlopen\n",
    "# webpage = urlopen('https://www.thinkcontest.com/Contest/ContestDetail.html?id=1')\n",
    "# soup = BeautifulSoup(webpage.content, \"html.parser\")"
   ]
  },
  {
   "cell_type": "markdown",
   "metadata": {},
   "source": [
    "## 자료별로 사용한 함수들\n",
    "* **data_detail(p)** : ['공모전명', '조회수', '주최','주관', '응모분야','참가자격','접수기간','1등시상금'] 정보\n",
    "    * p : 씽굿의 p페이지까지  \n",
    "\n",
    "\n",
    "* crawling_tg(add) : 시상금액 규모별 공모전 정보\n",
    "    * add : address  \n",
    "\n",
    "\n",
    "* craw(p, c) : 한번에 긁어오기 위해 사용\n",
    "    * p: page, c: 종류(5천만원 이상, 3000~ 5000만원 etc)  \n",
    "\n",
    "\n",
    "* get_image(p) : 공모전별 사진 링크\n",
    "    * p : 몇번 째 페이지까지 긁어올 것인가  \n",
    "\n",
    "\n",
    "* get_text(p) : 공모전별 내용\n",
    "    * p : 몇번 째 페이지까지 긁어올 것인가  "
   ]
  },
  {
   "cell_type": "code",
   "execution_count": 2,
   "metadata": {},
   "outputs": [],
   "source": [
    "webpage = requests.get('https://www.thinkcontest.com/Contest/ContestDetail.html?id=25589')\n",
    "soup = BeautifulSoup(webpage.content, \"html.parser\")"
   ]
  },
  {
   "cell_type": "code",
   "execution_count": 2,
   "metadata": {},
   "outputs": [],
   "source": [
    "def crawling_tg(add):\n",
    "    webpage = requests.get(add)\n",
    "    soup = BeautifulSoup(webpage.content, \"html.parser\")\n",
    "    men = soup.find_all(attrs={'class':\"txt-left\"})\n",
    "    wb = openpyxl.Workbook()\n",
    "    sheet = wb.active\n",
    "    sheet.append(['공모명','분류','기간','조회수'])\n",
    "    l1=[]\n",
    "    l2=[]\n",
    "    l3=[]\n",
    "    l4=[]\n",
    "\n",
    "\n",
    "    for i in men:\n",
    "        l1.append(i.select_one('a').get_text())\n",
    "        l2.append(i.select_one('.contest-cate').get_text())\n",
    "\n",
    "    for i in soup.find_all('td'):\n",
    "        if '~' in i.text:\n",
    "            l3.append(i.get_text())\n",
    "\n",
    "        if (i.text.isdigit()):\n",
    "            l4.append(i.get_text())\n",
    "\n",
    "    men_list=list(map(lambda x1,x2,x3,x4:[x1,x2,x3,x4], l1,l2,l3,l4))\n",
    "    \n",
    "    \n",
    "    for i in men_list:\n",
    "        sheet.append(i)\n",
    "    \n",
    "    wb.save('./data/money/data'+str(add)[-1]+'.xlsx')"
   ]
  },
  {
   "cell_type": "code",
   "execution_count": 3,
   "metadata": {},
   "outputs": [],
   "source": [
    "def craw(p, c):\n",
    "    sheet_space=[[] for i in range(p)]\n",
    "    for k in range(1, p+1):\n",
    "\n",
    "        st_time =time.time()\n",
    "\n",
    "        webpage = requests.get('https://www.thinkcontest.com/Contest/CateReward.html?page='+str(k)+'&c='+str(c))\n",
    "        soup = BeautifulSoup(webpage.content, \"html.parser\")\n",
    "        men = soup.find_all(attrs={'class':\"txt-left\"})\n",
    "        wb = openpyxl.Workbook()\n",
    "        sheet = wb.active\n",
    "        sheet.append(['공모명','분류','기간','조회수'])\n",
    "        l1=[]\n",
    "        l2=[]\n",
    "        l3=[]\n",
    "        l4=[]\n",
    "\n",
    "\n",
    "        for i in men:\n",
    "            l1.append(i.select_one('a').get_text())\n",
    "            l2.append(i.select_one('.contest-cate').get_text())\n",
    "\n",
    "        for i in soup.find_all('td'):\n",
    "            if '~' in i.text:\n",
    "                l3.append(i.get_text())\n",
    "\n",
    "            if (i.text.isdigit()):\n",
    "                l4.append(i.get_text())\n",
    "\n",
    "        men_list=list(map(lambda x1,x2,x3,x4:[x1,x2,x3,x4], l1,l2,l3,l4))\n",
    "\n",
    "        for men in men_list:\n",
    "            sheet_space[k-1].append(men)\n",
    "\n",
    "        if k%10==0:\n",
    "            ed_time =time.time()-st_time\n",
    "            print(\"\\r남은 개수 :\",k,\"/\",p,\"\\t\\t남은 시간 :\",round(ed_time*(p-k-1),2),\"\\t\\t\",end='')\n",
    "\n",
    "    for r in range(p):\n",
    "        for q in range(len(sheet_space[r])):\n",
    "            sheet.append(sheet_space[r][q])\n",
    "\n",
    "    wb.save('./data/money/data'+str(c)+'.xlsx')\n",
    "    \n",
    "# craw(47, 1)\n",
    "# craw(41, 2)\n",
    "# craw(256, 3)\n",
    "# craw(811, 4)"
   ]
  },
  {
   "cell_type": "code",
   "execution_count": 4,
   "metadata": {},
   "outputs": [],
   "source": [
    "def get_image(p):\n",
    "    wb = openpyxl.Workbook()\n",
    "    sheet = wb.active\n",
    "    sheet.append(['공모전명', '이미지'])\n",
    "    \n",
    "    try:\n",
    "        for i in range(1, p):\n",
    "            \n",
    "                st_time =time.time()\n",
    "                webpage = requests.get('https://www.thinkcontest.com/Contest/ContestDetail.html?id='+str(i))\n",
    "                soup = BeautifulSoup(webpage.content, \"html.parser\")\n",
    "\n",
    "                title_list = []\n",
    "                image_list = []\n",
    "                text_list = []\n",
    "\n",
    "                soup_title = soup.find('title').get_text().replace('씽굿_전체공모전현황_공모전 상세보기_','')\n",
    "                image_link = soup.head.find('meta', {'property':'og:image'}).get('content')\n",
    "                \n",
    "#                 if soup.find_all(attrs={'class':\"info-cont\"}) == []: \n",
    "#                     soup_text = 'error'\n",
    "                \n",
    "#                 else :\n",
    "#                     soup_text = soup.find_all(attrs={'class':\"info-cont\"})[0].get_text()\n",
    "\n",
    "                title_list.append(soup_title)\n",
    "                image_list.append(image_link)\n",
    "#                 text_list.append(soup_text)\n",
    "\n",
    "                if i%50 == 0:\n",
    "                    ed_time =time.time()-st_time\n",
    "                    print(\"\\r남은 개수 :\",i,\"/\",p,\"\\t\\t남은 시간 :\",round(ed_time*(p-i-1),2),\"\\t\\t\",end='')\n",
    "\n",
    "                sheet.append([title_list[0], image_list[0]])\n",
    "\n",
    "    except :\n",
    "        print(i)\n",
    "    \n",
    "    wb.save('./data/get_image'+str(p)+'.xlsx')"
   ]
  },
  {
   "cell_type": "code",
   "execution_count": 5,
   "metadata": {},
   "outputs": [],
   "source": [
    "def get_text(p):\n",
    "    wb = openpyxl.Workbook()\n",
    "    sheet = wb.active\n",
    "    sheet.append(['공모전명', '내용'])\n",
    "    for i in range(1, p):\n",
    "\n",
    "        try:\n",
    "            st_time =time.time()\n",
    "\n",
    "            webpage = requests.get('https://www.thinkcontest.com/Contest/ContestDetail.html?id='+str(i))\n",
    "            soup = BeautifulSoup(webpage.content, \"html.parser\")\n",
    "\n",
    "            title_list = []\n",
    "            text_list = []\n",
    "\n",
    "            soup_title = soup.find('title').get_text().replace('씽굿_전체공모전현황_공모전 상세보기_','')\n",
    "\n",
    "            if len(soup.find_all(attrs={'class':\"info-cont\"})):\n",
    "                soup_text = soup.find_all(attrs={'class':\"info-cont\"})[0].get_text()\n",
    "\n",
    "            else :\n",
    "                soup_text = 'error'\n",
    "\n",
    "            title_list.append(soup_title)    \n",
    "            text_list.append(soup_text)\n",
    "\n",
    "            if i%10 == 0:\n",
    "                ed_time =time.time()-st_time\n",
    "                print(\"\\r남은 개수 :\",i,\"/\",p,\"\\t\\t남은 시간 :\",round(ed_time*(p-i-1),2),\"\\t\\t\",end='')\n",
    "\n",
    "            sheet.append([title_list[0], text_list[0]])\n",
    "\n",
    "        except:\n",
    "            pass\n",
    "\n",
    "    wb.save('./data/get_text'+str(p)+'.xlsx')"
   ]
  },
  {
   "cell_type": "code",
   "execution_count": 6,
   "metadata": {},
   "outputs": [],
   "source": [
    "def data_detail(p):\n",
    "    wb = openpyxl.Workbook()\n",
    "    sheet = wb.active\n",
    "    sheet.append(['공모전명_plus', '조회수', '주최','주관', '응모분야','참가자격','접수기간','1등시상금'])\n",
    "\n",
    "    for i in range(1, p):\n",
    "\n",
    "        try:\n",
    "            st_time = time.time()\n",
    "            webpage = requests.get('https://www.thinkcontest.com/Contest/ContestDetail.html?id='+str(i))\n",
    "            soup = BeautifulSoup(webpage.content, 'html.parser')\n",
    "\n",
    "            juchae = soup.find_all('tr')[0].find('td').get_text()\n",
    "            for j in range(len(soup.find_all('tr'))):\n",
    "                try :\n",
    "                    if (soup.find_all('tr')[j].find('th').get_text())=='응모분야':\n",
    "                        join_part = soup.find_all('tr')[j].find('td').get_text()\n",
    "                    elif (soup.find_all('tr')[j].find('th').get_text())=='참가자격':\n",
    "                        join_license = soup.find_all('tr')[j].find('td').get_text()\n",
    "                    elif (soup.find_all('tr')[j].find('th').get_text())=='접수기간':\n",
    "                        join_date = soup.find_all('tr')[j].find('td').get_text()\n",
    "                    elif (soup.find_all('tr')[j].find('th').get_text())=='주관':\n",
    "                        jugan = soup.find_all('tr')[j].find('td').get_text()\n",
    "                    elif (soup.find_all('tr')[j].find('th').get_text())=='1등 시상금':\n",
    "                        join_money = soup.find_all('tr')[j].find('td').get_text()\n",
    "\n",
    "                except :\n",
    "                    pass\n",
    "\n",
    "            view = soup.find_all(attrs={'class' : 'views'})[0].get_text()\n",
    "            title_plus = soup.find_all(attrs={'class' : 'contest-title'})[0].get_text()\n",
    "\n",
    "            sheet.append([title_plus, view, juchae, jugan, join_part, join_license, join_date, join_money])\n",
    "\n",
    "            if (i%10 == 0) : \n",
    "                ed_time = time.time() - st_time\n",
    "                print(\"\\r남은 개수 :\",i,\"/\",p,\"\\t\\t남은 시간 :\",round(ed_time*(p-i-1),2),\"\\t\\t\",end='')\n",
    "\n",
    "\n",
    "        except :\n",
    "            pass\n",
    "    \n",
    "    wb.save('./data/data_detail'+str(p)+'.xlsx')"
   ]
  },
  {
   "cell_type": "markdown",
   "metadata": {},
   "source": [
    "## 데이터 전처리"
   ]
  },
  {
   "cell_type": "markdown",
   "metadata": {},
   "source": [
    "공모전 관련 데이터들 총 취합 "
   ]
  },
  {
   "cell_type": "code",
   "execution_count": 7,
   "metadata": {},
   "outputs": [],
   "source": [
    "# 원본 데이터 불러오기 / 오류가 있음\n",
    "\n",
    "df_image_ori = pd.read_excel('./data/get_image25012.xlsx')\n",
    "df_text_ori = pd.read_excel('./data/get_text25012.xlsx')\n",
    "df_detail_ori = pd.read_excel('./data/data_detail25012.xlsx')"
   ]
  },
  {
   "cell_type": "markdown",
   "metadata": {},
   "source": [
    "원본 데이터 보호작업"
   ]
  },
  {
   "cell_type": "code",
   "execution_count": 8,
   "metadata": {},
   "outputs": [],
   "source": [
    "# 데이터 copy\n",
    "\n",
    "df_image = df_image_ori.copy()\n",
    "df_text = df_text_ori.copy()\n",
    "df_detail = df_detail_ori.copy()"
   ]
  },
  {
   "cell_type": "markdown",
   "metadata": {},
   "source": [
    "취업에 실질적으로 도움이 되는 공모전을 분류하기 위해 입사시 가산점과 인턴ㆍ정직원 채용 항목을 추가해줌"
   ]
  },
  {
   "cell_type": "code",
   "execution_count": 9,
   "metadata": {},
   "outputs": [],
   "source": [
    "df_detail['입사_가산점'] = 0\n",
    "df_detail['인턴정직원_채용'] = 0\n",
    "\n",
    "df_detail['입사_가산점'] = df_detail['공모전명_plus'].apply(lambda x : 1 if ('입사시 가산점' in x) else 0)\n",
    "df_detail['인턴정직원_채용'] = df_detail['공모전명_plus'].apply(lambda x : 1 if ('인턴ㆍ정직원 채용' in x) else 0)\n",
    "df_detail['공모전명_plus'] = df_detail['공모전명_plus'].apply(lambda x: x.replace('입사시 가산점', '').replace('인턴ㆍ정직원 채용','').replace('코칭가이드','').replace('\\n',''))\n",
    "\n",
    "df_detail.columns = ['공모전명','조회수','주최','주관','응모분야',\n",
    "                     '참가자격','접수기간','1등시상금','입사_가산점','인턴정직원_채용']"
   ]
  },
  {
   "cell_type": "markdown",
   "metadata": {},
   "source": [
    "크롤링 과정에서 발생한 에러 데이터 처리 작업 - 3가지의 데이터를 병합할 수 있게 데이터 정제를 해준 것"
   ]
  },
  {
   "cell_type": "code",
   "execution_count": 38,
   "metadata": {},
   "outputs": [],
   "source": [
    "# 에러 데이터 제거\n",
    "\n",
    "df_image = df_image[df_image['공모전명'] != '씽굿-대한민국 대표 공모전 미디어 씽굿']\n",
    "df_text = df_text[df_text['내용'] != 'error']\n",
    "\n",
    "df_image.drop_duplicates(['공모전명'], keep='last', inplace=True)\n",
    "df_text.drop_duplicates(['공모전명'], keep='last', inplace=True)\n",
    "df_detail.drop_duplicates(['공모전명'], keep='last', inplace=True)\n",
    "\n",
    "df_detail['공모전명'].fillna('없음', inplace = True)\n",
    "df_text['내용'].fillna('없음', inplace = True)\n",
    "df_detail = df_detail[df_detail['공모전명'] != '없음']\n",
    "\n",
    "df_image = df_image.reset_index(drop = True)\n",
    "df_text = df_text.reset_index(drop = True)\n",
    "df_detail = df_detail.reset_index(drop = True)"
   ]
  },
  {
   "cell_type": "code",
   "execution_count": 39,
   "metadata": {},
   "outputs": [],
   "source": [
    "df_detail['조회수'] = df_detail['조회수'].apply(lambda x : int(x.replace('조회수 : ', '')))\n",
    "df_detail['응모분야'] = df_detail['응모분야'].apply(lambda x : x.replace('\\n',''))\n",
    "df_detail['참가자격'] = df_detail['참가자격'].apply(lambda x : x.replace('\\n\\n', '').replace('\\n', '/'))"
   ]
  },
  {
   "cell_type": "code",
   "execution_count": 40,
   "metadata": {},
   "outputs": [],
   "source": [
    "# 데이터 유실을 염려한 중간 check-point\n",
    "df_new = df_detail.copy()"
   ]
  },
  {
   "cell_type": "markdown",
   "metadata": {},
   "source": [
    "**분야별 One-hot Encoding** 기존의 데이터는 트렌트와 맞지 않아 새로운 기준으로 시행"
   ]
  },
  {
   "cell_type": "code",
   "execution_count": 41,
   "metadata": {},
   "outputs": [],
   "source": [
    "df_new['기획/아이디어'] = df_new.index.map(lambda x : 1 if '기획/아이디어' \n",
    "                                       in df_new['응모분야'][x] else 0)\n",
    "\n",
    "df_new['광고/마케팅'] = df_new.index.map(lambda x : 1 if '광고/마케팅' \n",
    "                                       in df_new['응모분야'][x] else 0)\n",
    "\n",
    "df_new['학술'] = df_new.index.map(lambda x : 1 if '논문/리포트' \n",
    "                                       in df_new['응모분야'][x] else 0)\n",
    "\n",
    "df_new['사진/영상/UCC'] = df_new.index.map(lambda x : 1 if ('사진' \n",
    "                                       in df_new['응모분야'][x]) or ('UCC/영상' \n",
    "                                       in df_new['응모분야'][x]) else 0)\n",
    "\n",
    "df_new['디자인'] = df_new.index.map(lambda x : 1 if ('디자인' \n",
    "                                       in df_new['응모분야'][x]) or ('캐릭터/만화' \n",
    "                                       in df_new['응모분야'][x]) else 0)\n",
    "\n",
    "df_new['문학/시나리오'] = df_new.index.map(lambda x : 1 if '문학/수기' \n",
    "                                       in df_new['응모분야'][x] else 0)\n",
    "\n",
    "df_new['건축/건설/인테리어'] = df_new.index.map(lambda x : 1 if '건축/건설' \n",
    "                                       in df_new['응모분야'][x] else 0)\n",
    "\n",
    "df_new['브랜드/네이밍'] = df_new.index.map(lambda x : 1 if '네이밍/슬로건' \n",
    "                                       in df_new['응모분야'][x] else 0)\n",
    "\n",
    "df_new['예체능'] = df_new.index.map(lambda x : 1 if '예체능' \n",
    "                                       in df_new['응모분야'][x] else 0)\n",
    "\n",
    "df_new['대외활동'] = df_new.index.map(lambda x : 1 if ('대외활동' \n",
    "                                       in df_new['응모분야'][x]) or ('봉사활동' \n",
    "                                       in df_new['응모분야'][x]) else 0)\n",
    "\n",
    "df_new['취업/창업'] = df_new.index.map(lambda x : 1 if '취업/창업' \n",
    "                                       in df_new['응모분야'][x] else 0)\n",
    "\n",
    "df_new['IT/소프트웨어/게임'] = df_new.index.map(lambda x : 1 if ('게임/소프트웨어' \n",
    "                                       in df_new['응모분야'][x]) or ('과학/공학' \n",
    "                                       in df_new['응모분야'][x]) else 0)\n",
    "                                           \n",
    "df_new['분야별_기타'] = df_new.index.map(lambda x : 1 if ('경품/이벤트' \n",
    "                                       in df_new['응모분야'][x]) or ('전시/페스티발' \n",
    "                                       in df_new['응모분야'][x]) or ('해외' \n",
    "                                       in df_new['응모분야'][x]) or ('장학(금)재단' \n",
    "                                       in df_new['응모분야'][x]) else 0)"
   ]
  },
  {
   "cell_type": "markdown",
   "metadata": {},
   "source": [
    "### 공모전과 대외활동 분류\n",
    "* 대외활동이 아닌 공모전 정보만 사용하기 위해 분류해줌"
   ]
  },
  {
   "cell_type": "code",
   "execution_count": 42,
   "metadata": {},
   "outputs": [],
   "source": [
    "df_gongmo = df_new[df_new['대외활동'] == 0].copy()\n",
    "df_external = df_new[df_new['대외활동'] == 1].copy()"
   ]
  },
  {
   "cell_type": "code",
   "execution_count": 43,
   "metadata": {},
   "outputs": [],
   "source": [
    "df_gongmo.to_csv('./data/classify/공모전.csv', encoding = 'utf-8', index = False)\n",
    "df_external.to_csv('./data/classify/대외활동.csv', encoding = 'utf-8', index = False)"
   ]
  },
  {
   "cell_type": "code",
   "execution_count": 44,
   "metadata": {},
   "outputs": [],
   "source": [
    "df_gong = pd.read_csv('./data/classify/공모전.csv')"
   ]
  },
  {
   "cell_type": "code",
   "execution_count": 45,
   "metadata": {},
   "outputs": [],
   "source": [
    "df_gong['분야별_전체'] = 1\n",
    "df_gong['자격별_전체'] = 1"
   ]
  },
  {
   "cell_type": "markdown",
   "metadata": {},
   "source": [
    "**참가자격별 One-hot Encoding** 기존의 데이터에서 살짝 변화 / 분류를 줄이는 것이 보기 편함"
   ]
  },
  {
   "cell_type": "code",
   "execution_count": 46,
   "metadata": {},
   "outputs": [],
   "source": [
    "df_gong['누구나'] = df_gong.index.map(lambda x : 1 if '제한없음' in df_gong['참가자격'][x]\n",
    "                                  else 0)\n",
    "\n",
    "df_gong['일반인'] = df_gong.index.map(lambda x : 1 if '일반인' in df_gong['참가자격'][x]\n",
    "                                  else 0)\n",
    "\n",
    "df_gong['대학생'] = df_gong.index.map(lambda x : 1 if '대학생' in df_gong['참가자격'][x]\n",
    "                                  else 0)\n",
    "\n",
    "df_gong['대학원생'] = df_gong.index.map(lambda x : 1 if '대학원생' in df_gong['참가자격'][x]\n",
    "                                  else 0)\n",
    "\n",
    "df_gong['청소년'] = df_gong.index.map(lambda x : 1 if ('고등학생' in df_gong['참가자격'][x])\n",
    "                                   or ('중학생' in df_gong['참가자격'][x])\n",
    "                                   or ('초등학생' in df_gong['참가자격'][x])\n",
    "                                  else 0)\n",
    "\n",
    "df_gong['어린이'] = df_gong.index.map(lambda x : 1 if '어린이' in df_gong['참가자격'][x]\n",
    "                                  else 0)\n",
    "\n",
    "df_gong['자격별_기타'] = df_gong.index.map(lambda x : 1 if ('기타' in df_gong['참가자격'][x])\n",
    "                                  or ('기업' in df_gong['참가자격'][x])\n",
    "                                  else 0)"
   ]
  },
  {
   "cell_type": "markdown",
   "metadata": {},
   "source": [
    "One-hot Encoding으로 분류가 완료되었으니 쓰이지 않는 데이터 제거"
   ]
  },
  {
   "cell_type": "code",
   "execution_count": 47,
   "metadata": {
    "scrolled": false
   },
   "outputs": [],
   "source": [
    "df_gong = df_gong.drop(['응모분야','참가자격'], axis = 1)"
   ]
  },
  {
   "cell_type": "markdown",
   "metadata": {},
   "source": [
    "보기 좋게 column 정렬"
   ]
  },
  {
   "cell_type": "code",
   "execution_count": 48,
   "metadata": {},
   "outputs": [],
   "source": [
    "df_gong = df_gong[['공모전명', '주최', '주관', '접수기간', '조회수', '1등시상금', '입사_가산점', '인턴정직원_채용', '분야별_전체',\n",
    "       '기획/아이디어', '광고/마케팅', '학술', '사진/영상/UCC', '디자인', '문학/시나리오', '건축/건설/인테리어',\n",
    "       '브랜드/네이밍', '예체능', '대외활동', '취업/창업', 'IT/소프트웨어/게임', '분야별_기타', '자격별_전체', '누구나',\n",
    "       '일반인', '대학생', '대학원생', '청소년', '어린이', '자격별_기타']]"
   ]
  },
  {
   "cell_type": "markdown",
   "metadata": {},
   "source": [
    "위에서 정제한 3가지 데이터 병합"
   ]
  },
  {
   "cell_type": "code",
   "execution_count": 51,
   "metadata": {},
   "outputs": [],
   "source": [
    "df_gong_temp = pd.merge(df_gong, df_text, on = '공모전명', how = 'left')\n",
    "df_full = pd.merge(df_gong_temp, df_image, on = '공모전명', how = 'left')"
   ]
  },
  {
   "cell_type": "code",
   "execution_count": 52,
   "metadata": {},
   "outputs": [],
   "source": [
    "# 병합 과정에서 생기는 NaN 데이터 처리\n",
    "df_full.fillna('없음', inplace = True)"
   ]
  },
  {
   "cell_type": "markdown",
   "metadata": {},
   "source": [
    "상금규모별 분류를 위해 데이터 불러오기"
   ]
  },
  {
   "cell_type": "code",
   "execution_count": 53,
   "metadata": {},
   "outputs": [],
   "source": [
    "df_1_origin = pd.read_excel('./data/money/data1.xlsx')\n",
    "df_2_origin = pd.read_excel('./data/money/data2.xlsx')\n",
    "df_3_origin = pd.read_excel('./data/money/data3.xlsx')\n",
    "df_4_origin = pd.read_excel('./data/money/data4.xlsx')"
   ]
  },
  {
   "cell_type": "markdown",
   "metadata": {},
   "source": [
    "이때까지의 데이터와 병합시키기 위해 column 통일"
   ]
  },
  {
   "cell_type": "code",
   "execution_count": 54,
   "metadata": {},
   "outputs": [],
   "source": [
    "df_1_origin.columns = ['공모전명','분야','기간','조회']\n",
    "df_2_origin.columns = ['공모전명','분야','기간','조회']\n",
    "df_3_origin.columns = ['공모전명','분야','기간','조회']\n",
    "df_4_origin.columns = ['공모전명','분야','기간','조회']"
   ]
  },
  {
   "cell_type": "markdown",
   "metadata": {},
   "source": [
    "**상금규모별 One-hot Encoding** "
   ]
  },
  {
   "cell_type": "code",
   "execution_count": 55,
   "metadata": {},
   "outputs": [],
   "source": [
    "df_5000 = pd.merge(df_full, df_1_origin, on ='공모전명', how ='right')\n",
    "df_5000_3000 = pd.merge(df_full, df_2_origin, on ='공모전명', how ='right')\n",
    "df_3000_1000 = pd.merge(df_full, df_3_origin, on ='공모전명', how ='right')\n",
    "df_1000 = pd.merge(df_full, df_4_origin, on ='공모전명', how ='right')"
   ]
  },
  {
   "cell_type": "code",
   "execution_count": 56,
   "metadata": {},
   "outputs": [],
   "source": [
    "list_5000 = list(df_5000['공모전명'])\n",
    "list_5000_3000 = list(df_5000_3000['공모전명'])\n",
    "list_3000_1000 = list(df_3000_1000['공모전명'])\n",
    "list_1000 = list(df_1000['공모전명'])"
   ]
  },
  {
   "cell_type": "code",
   "execution_count": 57,
   "metadata": {},
   "outputs": [],
   "source": [
    "df_full['5000'] = 0\n",
    "df_full['3000-5000'] = 0\n",
    "df_full['1000-3000'] = 0\n",
    "df_full['1000'] = 0\n",
    "etc_list = []\n",
    "\n",
    "for i in range(len(df_full)):\n",
    "    if df_full['공모전명'][i] in list_1000:\n",
    "        df_full['1000'][i] = 1\n",
    "    \n",
    "    elif df_full['공모전명'][i] in list_3000_1000:\n",
    "        df_full['1000-3000'][i] = 1\n",
    "        \n",
    "    elif df_full['공모전명'][i] in list_5000_3000:\n",
    "        df_full['3000-5000'][i] = 1\n",
    "        \n",
    "    elif df_full['공모전명'][i] in list_5000:\n",
    "        df_full['5000'][i] = 1\n",
    "        \n",
    "    else : etc_list.append(i)"
   ]
  },
  {
   "cell_type": "code",
   "execution_count": 58,
   "metadata": {},
   "outputs": [],
   "source": [
    "df_full['상금규모별_전체'] = 1\n",
    "df_full['상금규모_기타'] = 0\n",
    "for i in etc_list:\n",
    "    df_full['상금규모_기타'][i] = 1"
   ]
  },
  {
   "cell_type": "code",
   "execution_count": 59,
   "metadata": {},
   "outputs": [],
   "source": [
    "# check-point2\n",
    "df_full2 = df_full.copy()"
   ]
  },
  {
   "cell_type": "markdown",
   "metadata": {},
   "source": [
    "**주최기관별 One-hot Encoding** 기존의 데이터는 트렌트와 맞지 않아 새로운 기준으로 시행"
   ]
  },
  {
   "cell_type": "code",
   "execution_count": 62,
   "metadata": {},
   "outputs": [
    {
     "name": "stdout",
     "output_type": "stream",
     "text": [
      "420.9201993942261 \t\t 남은 갯수 :1/11\n",
      "728.7758326530457 \t\t 남은 갯수 :3/11\n",
      "818.945791721344 \t\t 남은 갯수 :5/11\n",
      "3679.031886816025 \t\t 남은 갯수 :7/11\n",
      "4149.638857841492 \t\t 남은 갯수 :9/11\n",
      "4328.906757593155 \t\t 남은 갯수 :11/11\n"
     ]
    }
   ],
   "source": [
    "ju_1 = [] #중앙정부/기관\n",
    "ju_2 = [] #공기업 \n",
    "ju_3 = [] #대기업\n",
    "ju_4 = [] #신문/방송/언론\n",
    "ju_5 = [] #외국계기업\n",
    "ju_6 = [] #지방자치단체\n",
    "ju_7 = [] #학교/재단/협회\n",
    "ju_8 = [] #중소/벤처기업\n",
    "ju_9 = [] #학회/비영리단체\n",
    "ju_10 = [] #해외\n",
    "ju_11 = [] #기타\n",
    "\n",
    "st_time = time.time()\n",
    "\n",
    "for i in range(1, 474):\n",
    "    webpage = requests.get('https://www.thinkcontest.com/Contest/CateOrganizer.html?page='+str(i)+'&c='+str(1))\n",
    "    soup = BeautifulSoup(webpage.content, \"html.parser\")\n",
    "    for j in range(1, len(soup.find_all('tr'))):\n",
    "        ju_1.append(soup.find_all('tr')[j].find_all('td')[1].get_text())\n",
    "\n",
    "print(time.time() - st_time, '\\t\\t 남은 갯수 :1/11')\n",
    "\n",
    "for i in range(1, 189):\n",
    "    webpage = requests.get('https://www.thinkcontest.com/Contest/CateOrganizer.html?page='+str(i)+'&c='+str(2))\n",
    "    soup = BeautifulSoup(webpage.content, \"html.parser\")\n",
    "    for j in range(1, len(soup.find_all('tr'))):\n",
    "        ju_2.append(soup.find_all('tr')[j].find_all('td')[1].get_text())\n",
    "        \n",
    "for i in range(1, 149):\n",
    "    webpage = requests.get('https://www.thinkcontest.com/Contest/CateOrganizer.html?page='+str(i)+'&c='+str(3))\n",
    "    soup = BeautifulSoup(webpage.content, \"html.parser\")\n",
    "    for j in range(1, len(soup.find_all('tr'))):\n",
    "        ju_3.append(soup.find_all('tr')[j].find_all('td')[1].get_text())\n",
    "        \n",
    "print(time.time() - st_time, '\\t\\t 남은 갯수 :3/11')\n",
    "\n",
    "for i in range(1, 75):\n",
    "    webpage = requests.get('https://www.thinkcontest.com/Contest/CateOrganizer.html?page='+str(i)+'&c='+str(4))\n",
    "    soup = BeautifulSoup(webpage.content, \"html.parser\")\n",
    "    for j in range(1, len(soup.find_all('tr'))):\n",
    "        ju_4.append(soup.find_all('tr')[j].find_all('td')[1].get_text()) \n",
    "    \n",
    "for i in range(1, 23):\n",
    "    webpage = requests.get('https://www.thinkcontest.com/Contest/CateOrganizer.html?page='+str(i)+'&c='+str(5))\n",
    "    soup = BeautifulSoup(webpage.content, \"html.parser\")\n",
    "    for j in range(1, len(soup.find_all('tr'))):\n",
    "        ju_5.append(soup.find_all('tr')[j].find_all('td')[1].get_text())   \n",
    "        \n",
    "print(time.time() - st_time, '\\t\\t 남은 갯수 :5/11')\n",
    "\n",
    "\n",
    "for i in range(1, 315):\n",
    "    webpage = requests.get('https://www.thinkcontest.com/Contest/CateOrganizer.html?page='+str(i)+'&c='+str(6))\n",
    "    soup = BeautifulSoup(webpage.content, \"html.parser\")\n",
    "    for j in range(1, len(soup.find_all('tr'))):\n",
    "        ju_6.append(soup.find_all('tr')[j].find_all('td')[1].get_text())  \n",
    "        \n",
    "for i in range(1, 363):\n",
    "    webpage = requests.get('https://www.thinkcontest.com/Contest/CateOrganizer.html?page='+str(i)+'&c='+str(7))\n",
    "    soup = BeautifulSoup(webpage.content, \"html.parser\")\n",
    "    for j in range(1, len(soup.find_all('tr'))):\n",
    "        ju_7.append(soup.find_all('tr')[j].find_all('td')[1].get_text())   \n",
    "        \n",
    "print(time.time() - st_time, '\\t\\t 남은 갯수 :7/11')\n",
    "\n",
    "        \n",
    "for i in range(1, 313):\n",
    "    webpage = requests.get('https://www.thinkcontest.com/Contest/CateOrganizer.html?page='+str(i)+'&c='+str(8))\n",
    "    soup = BeautifulSoup(webpage.content, \"html.parser\")\n",
    "    for j in range(1, len(soup.find_all('tr'))):\n",
    "        ju_8.append(soup.find_all('tr')[j].find_all('td')[1].get_text())  \n",
    "        \n",
    "for i in range(1, 215):\n",
    "    webpage = requests.get('https://www.thinkcontest.com/Contest/CateOrganizer.html?page='+str(i)+'&c='+str(9))\n",
    "    soup = BeautifulSoup(webpage.content, \"html.parser\")\n",
    "    for j in range(1, len(soup.find_all('tr'))):\n",
    "        ju_9.append(soup.find_all('tr')[j].find_all('td')[1].get_text())   \n",
    "        \n",
    "print(time.time() - st_time, '\\t\\t 남은 갯수 :9/11')\n",
    "        \n",
    "for i in range(1, 12):\n",
    "    webpage = requests.get('https://www.thinkcontest.com/Contest/CateOrganizer.html?page='+str(i)+'&c='+str(10))\n",
    "    soup = BeautifulSoup(webpage.content, \"html.parser\")\n",
    "    for j in range(1, len(soup.find_all('tr'))):\n",
    "        ju_10.append(soup.find_all('tr')[j].find_all('td')[1].get_text())   \n",
    "        \n",
    "for i in range(1, 174):\n",
    "    webpage = requests.get('https://www.thinkcontest.com/Contest/CateOrganizer.html?page='+str(i)+'&c='+str(99))\n",
    "    soup = BeautifulSoup(webpage.content, \"html.parser\")\n",
    "    for j in range(1, len(soup.find_all('tr'))):\n",
    "        ju_11.append(soup.find_all('tr')[j].find_all('td')[1].get_text())   \n",
    "        \n",
    "print(time.time() - st_time, '\\t\\t 남은 갯수 :11/11')"
   ]
  },
  {
   "cell_type": "code",
   "execution_count": 63,
   "metadata": {},
   "outputs": [],
   "source": [
    "df_full2['주최기관별_전체'] = 1\n",
    "df_full2['정부/공공기관'] = 0\n",
    "df_full2['공기업'] = 0\n",
    "df_full2['대기업'] = 0\n",
    "df_full2['신문/방송/언론'] = 0\n",
    "df_full2['외국계기업'] = 0\n",
    "df_full2['중견/중소/벤처기업'] = 0\n",
    "df_full2['비영리/협회/재단'] = 0\n",
    "df_full2['주최기관별_기타'] = 0\n",
    "\n",
    "for i in range(len(df_full2)):\n",
    "\n",
    "    if df_full2['주최'][i] in ju_1:\n",
    "        df_full2['정부/공공기관'][i] = 1\n",
    "    elif df_full2['주최'][i] in ju_6:\n",
    "        df_full2['정부/공공기관'][i] = 1\n",
    "    \n",
    "    elif df_full2['주최'][i] in ju_2:\n",
    "        df_full2['공기업'][i] = 1\n",
    "    \n",
    "    elif df_full2['주최'][i] in ju_3:\n",
    "        df_full2['대기업'][i] = 1\n",
    "        \n",
    "    elif df_full2['주최'][i] in ju_4:\n",
    "        df_full2['신문/방송/언론'][i] = 1\n",
    "\n",
    "    elif df_full2['주최'][i] in ju_5:\n",
    "        df_full2['외국계기업'][i] = 1\n",
    "    \n",
    "    elif df_full2['주최'][i] in ju_8:\n",
    "        df_full2['중견/중소/벤처기업'][i] = 1\n",
    "        \n",
    "    elif df_full2['주최'][i] in ju_7:\n",
    "        df_full2['비영리/협회/재단'][i] = 1\n",
    "    elif df_full2['주최'][i] in ju_9:\n",
    "        df_full2['비영리/협회/재단'][i] = 1\n",
    "        \n",
    "    elif df_full2['주최'][i] in ju_10:\n",
    "        df_full2['주최기관별_기타'][i] = 1\n",
    "    elif df_full2['주최'][i] in ju_11:\n",
    "        df_full2['주최기관별_기타'][i] = 1"
   ]
  },
  {
   "cell_type": "markdown",
   "metadata": {},
   "source": [
    "**추천 시스템 개발을 위해 공모전_id 지정**"
   ]
  },
  {
   "cell_type": "code",
   "execution_count": 64,
   "metadata": {},
   "outputs": [],
   "source": [
    "df_full2['gong_id'] = [i for i in range(1, len(df_full['공모전명'])+1)]"
   ]
  },
  {
   "cell_type": "markdown",
   "metadata": {},
   "source": [
    "보기 좋게 column 정리"
   ]
  },
  {
   "cell_type": "code",
   "execution_count": 65,
   "metadata": {},
   "outputs": [],
   "source": [
    "df_full2 = df_full2[['공모전명', 'gong_id','주최', '주관', '접수기간', '조회수', '내용', '이미지', \n",
    "'1등시상금', '입사_가산점', '인턴정직원_채용', '분야별_전체', '기획/아이디어', '광고/마케팅',\n",
    "          '학술', '사진/영상/UCC', '디자인', '문학/시나리오', '건축/건설/인테리어',\n",
    "          '브랜드/네이밍', '예체능', '대외활동', '취업/창업', 'IT/소프트웨어/게임', '분야별_기타',\n",
    "         '자격별_전체', '누구나', '일반인', '대학생', '대학원생', '청소년', '어린이', '자격별_기타',\n",
    "        '상금규모별_전체', '5000', '3000-5000', '1000-3000', '1000', '상금규모_기타',\n",
    "          '주최기관별_전체', '정부/공공기관', '공기업', '대기업', '신문/방송/언론', '외국계기업', '중견/중소/벤처기업',\n",
    "       '비영리/협회/재단', '주최기관별_기타']]"
   ]
  },
  {
   "cell_type": "markdown",
   "metadata": {},
   "source": [
    "## 완성 데이터 저장\n",
    "* 이제 이 데이터를 통해 추천해줄 예정"
   ]
  },
  {
   "cell_type": "code",
   "execution_count": 67,
   "metadata": {},
   "outputs": [],
   "source": [
    "df_full2.to_csv('./data/최종.csv', encoding = 'utf-8', index = False)"
   ]
  }
 ],
 "metadata": {
  "kernelspec": {
   "display_name": "Python 3",
   "language": "python",
   "name": "python3"
  },
  "language_info": {
   "codemirror_mode": {
    "name": "ipython",
    "version": 3
   },
   "file_extension": ".py",
   "mimetype": "text/x-python",
   "name": "python",
   "nbconvert_exporter": "python",
   "pygments_lexer": "ipython3",
   "version": "3.8.5"
  }
 },
 "nbformat": 4,
 "nbformat_minor": 4
}
