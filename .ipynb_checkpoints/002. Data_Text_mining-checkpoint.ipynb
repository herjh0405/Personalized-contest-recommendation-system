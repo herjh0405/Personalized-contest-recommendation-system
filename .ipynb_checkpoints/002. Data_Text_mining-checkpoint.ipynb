{
 "cells": [
  {
   "cell_type": "markdown",
   "metadata": {},
   "source": [
    "# 데이터의 텍스트 마이닝\n",
    "\n",
    "## 텍스트 마이닝을 위한 환경설정"
   ]
  },
  {
   "cell_type": "code",
   "execution_count": 38,
   "metadata": {},
   "outputs": [],
   "source": [
    "import pandas as pd\n",
    "import re\n",
    "import time\n",
    "\n",
    "import warnings\n",
    "warnings.filterwarnings('ignore')"
   ]
  },
  {
   "cell_type": "markdown",
   "metadata": {},
   "source": [
    "## 자료별로 사용한 함수들\n",
    "* regular_cleaner(d, c) :  데이터에서 필요한 부분을 숫자와 한글만 남기고 모두 제거\n",
    "    * d : dataframe, c : column\n",
    "\n",
    "\n",
    "* test(s) : text에서 한글과 띄어쓰기만 남기고 표현 / 정규식만 표현\n",
    "    * s : text"
   ]
  },
  {
   "cell_type": "code",
   "execution_count": 29,
   "metadata": {},
   "outputs": [],
   "source": [
    "# 영어 특수문자 제거\n",
    "def regular_cleaner(d, c):\n",
    "    for i in range(len(d[c])):\n",
    "        try:\n",
    "            d[c][i] = re.sub('[^ 0-9|ㄱ-힗]+','',d[c][i])\n",
    "            \n",
    "        except:\n",
    "            print(i)"
   ]
  },
  {
   "cell_type": "code",
   "execution_count": 30,
   "metadata": {},
   "outputs": [],
   "source": [
    "# 텍스트 클리닝 함수\n",
    "def test(s):\n",
    "    hangul = re.compile('[^ ㄱ-ㅣ가-힣]+') # 한글과 띄어쓰기를 제외한 모든 글자\n",
    "    # hangul = re.compile('[^ \\u3131-\\u3163\\uac00-\\ud7a3]+')  # 위와 동일\n",
    "    result = hangul.sub('', s) # 한글과 띄어쓰기를 제외한 모든 부분을 제거\n",
    "    print (result)\n",
    "\n",
    "    result = hangul.findall(s) # 정규식에 일치되는 부분을 리스트 형태로 저장\n",
    "    print (result)"
   ]
  },
  {
   "cell_type": "markdown",
   "metadata": {},
   "source": [
    "## 데이터 불러오기"
   ]
  },
  {
   "cell_type": "code",
   "execution_count": 31,
   "metadata": {},
   "outputs": [],
   "source": [
    "df_text_ori = pd.read_csv('./data/최종.csv')"
   ]
  },
  {
   "cell_type": "code",
   "execution_count": 32,
   "metadata": {},
   "outputs": [],
   "source": [
    "df_text = df_text_ori.copy()"
   ]
  },
  {
   "cell_type": "markdown",
   "metadata": {},
   "source": [
    "내용 column에서 정규식을 제외함"
   ]
  },
  {
   "cell_type": "code",
   "execution_count": 33,
   "metadata": {
    "scrolled": true
   },
   "outputs": [],
   "source": [
    "regular_cleaner(df_text, '내용')"
   ]
  },
  {
   "cell_type": "markdown",
   "metadata": {},
   "source": [
    "한국어 마이닝에 가장 최적화된 Kkma 모델 사용\n",
    "- https://konlpy-ko.readthedocs.io/ko/v0.4.3/ 참고"
   ]
  },
  {
   "cell_type": "code",
   "execution_count": 34,
   "metadata": {},
   "outputs": [],
   "source": [
    "from konlpy.tag import Kkma\n",
    "from konlpy.utils import pprint\n",
    "import io\n",
    "\n",
    "kkma = Kkma()"
   ]
  },
  {
   "cell_type": "code",
   "execution_count": 39,
   "metadata": {},
   "outputs": [],
   "source": [
    "# from konlpy.tag import Twitter\n",
    "# twitter = Twitter()\n",
    "\n",
    "# twitter.phrases(df_all['내용'][0])\n",
    "# twitter.pos(df_all['내용'][0], norm=True, stem=True)\n",
    "\n",
    "# from konlpy.tag import Hannanum\n",
    "# hannanum = Hannanum()\n",
    "# hannanum.nouns(df_all['내용'][0])\n",
    "# hannanum.pos(df_all['내용'][0])"
   ]
  },
  {
   "cell_type": "markdown",
   "metadata": {},
   "source": [
    "내용에서 총 상금 정보를 획득하기 위해 상금 정보만 도출"
   ]
  },
  {
   "cell_type": "code",
   "execution_count": 40,
   "metadata": {},
   "outputs": [
    {
     "name": "stdout",
     "output_type": "stream",
     "text": [
      "남은 개수 : 14440 / 14448 \t\t남은 시간 : 1.44 \t\t\t\t\t"
     ]
    }
   ],
   "source": [
    "df_text['상금추출'] =''\n",
    "p = len(df_text) - 1\n",
    "for j in range(0, p):\n",
    "    st_time = time.time()\n",
    "    s = io.StringIO()\n",
    "    pprint(kkma.sentences(df_text['내용'][j]), s)\n",
    "    money_list = list(filter(lambda x : '만원' in s.getvalue().split('\\n')[x]\n",
    "                             or '달러' in s.getvalue().split('\\n')[x]\n",
    "                             or '은상' in s.getvalue().split('\\n')[x]\n",
    "                             or '최우수상' in s.getvalue().split('\\n')[x]\n",
    "                             or '금상' in s.getvalue().split('\\n')[x]\n",
    "                             or '특별상' in s.getvalue().split('\\n')[x]\n",
    "                             or '상장' in s.getvalue().split('\\n')[x]\n",
    "                             or '입상구분' in s.getvalue().split('\\n')[x]\n",
    "                             or '시상금' in s.getvalue().split('\\n')[x]\n",
    "                             , range(len(s.getvalue().split('\\n')))))\n",
    "    for i in money_list:\n",
    "        df_text['상금추출'][j] += (s.getvalue().split('\\n')[i])\n",
    " \n",
    "    if j%10 == 0 :\n",
    "        ed_time = time.time() - st_time\n",
    "        print('\\r남은 개수 :',j,'/',p,'\\t\\t남은 시간 :',round(ed_time*(p-j-1),2), '\\t\\t', end='')"
   ]
  },
  {
   "cell_type": "markdown",
   "metadata": {},
   "source": [
    "데이터가 너무 크므로 작은 표본에서 확인"
   ]
  },
  {
   "cell_type": "code",
   "execution_count": 41,
   "metadata": {},
   "outputs": [],
   "source": [
    "df_check = df_text[:100]"
   ]
  },
  {
   "cell_type": "code",
   "execution_count": 47,
   "metadata": {},
   "outputs": [
    {
     "data": {
      "text/plain": [
       "' 국립대한민국임시정부기념관대국민 아이디어 공모 응모 자격 응모자격  제한 없음 개인 또는 3인 이하 팀지역 연령제한 없이 가능공모 주제 국민들이 생각하는 대한민국 임시정부 과거그리고 미래공모 구분건축물 디자인 분야 내가 생각하는 국립대한민국임시정부기념관의 모습은 대한민국임시정부를 기릴 수 있는 스토리 있는 기념관의 모습을 제안 디자인 컨셉 공간 구성 요소 등 아이디어형태의 국민들이 기대생각하는 기념관의 모습전시 콘텐츠 기획 분야 내가 국립대한민국임시정부기념관에서 보고 느끼고 체험하고 싶은 것은 국립대한민국임시정부기념관의 전시 콘텐츠를 자유롭게 표현 임시정부 시기의 역사상을 보여줄 수 있는 전시 구성 기법 등 제안시상 내역건축물 디자인 분야  총  12개팀 480만원 국가보훈처장 명의 상장수여전시 콘텐츠 기획 분야 총  12개팀 480만원 국가보훈처장 명의 상장수여  응모 일정 접수기간  2018 1 29 월  3 12 월 심사일자  2018 3 15 목 발표일자  2018 3 20 화 심사결과 및 당선작은 공모 홈페이지 공개 및 개인통보 예정 시상식  2018 3 28 수 제출 방법건축물 디자인 분야 이미지3와 참가신청서를 포함한 설명글4 2매 이내를 그려 디지털 파일로 제출 이미지의 형태는 디지털 이미지 혹은 스케치 그림 콜라주 형태 제한 없이 응모 가능172192522981658 172192522981658전시 콘텐츠 기획 분야 참가신청서 제출물은 디지털 파일로 제출 별도 양식 없음 4 3매 이내 접수 방법 공모전 홈페이지   유의 사항 모든 부문에 대한 응모는 온라인만 가능합니다 우편 및 방문 접수 불가 각 부문별 및 부문간 중복 응모 및 당첨이 가능합니다 건축물 디자인부문과 전시 콘텐츠 기획부문은 참가신청서를포함한 제출안양식 없음을 모두 제출하셔야 합니다 응모작에 대한 저작권은 응모자에게 있으며 주최 측은 수상작에 한하여 별도 협의없이 수상작에 대한 발표일로부터 1년 간 본 공모전의 취지 및 목적을 달성하기 위해 필요한 한도 내에서시각화 및 복제배포할 수 있습니다 주최 측은 응모자와 별도 협의 하에 응모작에 대한 저작재산권 중 일부를 양수하거나 이용 허락을 받을 수 있습니다 응모자는 응모작이 제3자의 저작재산권 초상권등을 침해하거나 법령에 위배되지 않도록 주의의무를 다하여야 하며 그와 관련하여 분쟁이 발생하는 경우그에 따른 모든 법적 책임은 응모자에게 있습니다 공모전의 취지와 무관하거나 타인의 저작물 명의를 도용한 작품 등 심사에 적합하지않은 응모작은 심사 대상에서 제외되며 입상 이후 위 사실이 밝혀질 경우 입상이 취소되고 기지급한 상금및 경품 등이 환수될 수 있습니다 수상 결과는 수상자에게 개별적으로 연락을 드리며 3회 이상 연락이 안될 경우수상이 취소될 수 있습니다 시상식은 모든 부문의 수상자 대상으로 진행되며 상금은 시상식 이후 지급 됩니다 상금 및 경품제세공과금은 수상자 본인 부담은타인에게 양도할 수 없으며 타 상품으로 교환 및 환가는 불가합니다 응모작의 수준이 내부 기준에 부합하지 않을 경우 시상이 취소되거나 시상내역이 변경될 수 있습니다 공모전의 일정 등 위 공고 사항은 주최 측의 사정에 따라 일부 변경될 수 있습니다 본 공모전에 응모한 자는 상기 모든 내용에 동의한 것으로 간주합니다 기타 문의 사항은 공모전 홈페이지를 통해 문의해주시기 바랍니다 문의 사항 홈페이지를 통해 질문해주시기 바랍니다'"
      ]
     },
     "execution_count": 47,
     "metadata": {},
     "output_type": "execute_result"
    }
   ],
   "source": [
    "df_check['내용'][0]"
   ]
  },
  {
   "cell_type": "markdown",
   "metadata": {},
   "source": [
    "본격적으로 상금만 추출"
   ]
  },
  {
   "cell_type": "code",
   "execution_count": 56,
   "metadata": {},
   "outputs": [],
   "source": [
    "def prized(data, part):\n",
    "    data['상금'] = ''\n",
    "    want = re.compile('[ㄱ-힗]*[0-9]+[ㄱ-힗]+')\n",
    "    for i in range(len(data[part])):\n",
    "        data['상금'][i] = want.findall(data[part][i])"
   ]
  },
  {
   "cell_type": "code",
   "execution_count": 57,
   "metadata": {},
   "outputs": [],
   "source": [
    "prized(df_text, '내용')"
   ]
  },
  {
   "cell_type": "code",
   "execution_count": 58,
   "metadata": {
    "scrolled": true
   },
   "outputs": [
    {
     "data": {
      "text/plain": [
       "['1회저탄소',\n",
       " '13학년',\n",
       " '참여가능개인팀4인',\n",
       " '통합대상1팀인농림축산식품부',\n",
       " '200만원',\n",
       " '부문우수상2인농업기술실용화재단',\n",
       " '80만원',\n",
       " '부상장려상2인농업기술실용화재단',\n",
       " '30만원',\n",
       " '부문우수상2팀인농업기술실용화재단',\n",
       " '80만원',\n",
       " '부상장려상2팀인농업기술실용화재단',\n",
       " '30만원',\n",
       " '22월',\n",
       " '28수',\n",
       " '12월',\n",
       " '16금',\n",
       " '200자내외',\n",
       " '4붙임',\n",
       " '3붙임',\n",
       " '1분',\n",
       " '첨부2를',\n",
       " '이메일2018에',\n",
       " '1인',\n",
       " '1팀의',\n",
       " '07082558970평일',\n",
       " '2018작품제출']"
      ]
     },
     "execution_count": 58,
     "metadata": {},
     "output_type": "execute_result"
    }
   ],
   "source": [
    "df_text['상금'][7]"
   ]
  }
 ],
 "metadata": {
  "kernelspec": {
   "display_name": "Python 3",
   "language": "python",
   "name": "python3"
  },
  "language_info": {
   "codemirror_mode": {
    "name": "ipython",
    "version": 3
   },
   "file_extension": ".py",
   "mimetype": "text/x-python",
   "name": "python",
   "nbconvert_exporter": "python",
   "pygments_lexer": "ipython3",
   "version": "3.8.5"
  }
 },
 "nbformat": 4,
 "nbformat_minor": 4
}
